{
 "cells": [
  {
   "cell_type": "markdown",
   "metadata": {
    "id": "UHjWdYZ6TcdV"
   },
   "source": [
    "# Serial Extraction Agro-check Autorotation"
   ]
  },
  {
   "cell_type": "markdown",
   "metadata": {},
   "source": [
    "**Installing the necessary libraires**"
   ]
  },
  {
   "cell_type": "code",
   "execution_count": 16,
   "metadata": {
    "colab": {
     "base_uri": "https://localhost:8080/"
    },
    "executionInfo": {
     "elapsed": 27075,
     "status": "ok",
     "timestamp": 1712166301231,
     "user": {
      "displayName": "Sanket Dave",
      "userId": "15694873138504329632"
     },
     "user_tz": 420
    },
    "id": "dNb4rAmITcdX",
    "outputId": "e3bbed96-aaac-451e-abdd-2d103ef2b865"
   },
   "outputs": [],
   "source": [
    "! pip install -q pytesseract Tesseract opencv-python"
   ]
  },
  {
   "cell_type": "markdown",
   "metadata": {},
   "source": [
    "**Importing the necessary libraires**"
   ]
  },
  {
   "cell_type": "code",
   "execution_count": 17,
   "metadata": {
    "executionInfo": {
     "elapsed": 240,
     "status": "ok",
     "timestamp": 1712166519249,
     "user": {
      "displayName": "Sanket Dave",
      "userId": "15694873138504329632"
     },
     "user_tz": 420
    },
    "id": "-e5-aiptTcdX"
   },
   "outputs": [],
   "source": [
    "# Importing the required libraries\n",
    "import numpy as np\n",
    "import matplotlib.pyplot as plt\n",
    "import os\n",
    "import glob\n",
    "import cv2\n",
    "import re\n",
    "import pytesseract\n",
    "import shutil\n",
    "import csv\n",
    "import random\n",
    "import pandas as pd\n",
    "\n",
    "from PIL import Image\n",
    "from PIL import ImageFilter\n",
    "from PIL import ImageEnhance"
   ]
  },
  {
   "cell_type": "markdown",
   "metadata": {},
   "source": [
    "**Connect to google drive with below code (if necessary)**"
   ]
  },
  {
   "cell_type": "code",
   "execution_count": 18,
   "metadata": {
    "colab": {
     "base_uri": "https://localhost:8080/"
    },
    "executionInfo": {
     "elapsed": 862,
     "status": "ok",
     "timestamp": 1712166521505,
     "user": {
      "displayName": "Sanket Dave",
      "userId": "15694873138504329632"
     },
     "user_tz": 420
    },
    "id": "lIBKQRQ_TxPc",
    "outputId": "f3eb67eb-0101-4029-839c-75388aa3ae23"
   },
   "outputs": [],
   "source": [
    "# from google.colab import drive\n",
    "# drive.mount('/content/drive')"
   ]
  },
  {
   "cell_type": "markdown",
   "metadata": {},
   "source": [
    "**Tesseract Path if using MacOS**"
   ]
  },
  {
   "cell_type": "code",
   "execution_count": 19,
   "metadata": {},
   "outputs": [],
   "source": [
    "# To get path of tessearct in Mac\n",
    "\n",
    "# ! which tesseract\n",
    "\n",
    "# set path of tessearct for mac below\n",
    "\n",
    "# pytesseract.pytesseract.tesseract_cmd = '/opt/homebrew/bin/tesseract'  # Update this path to your Tesseract installation path\n"
   ]
  },
  {
   "cell_type": "markdown",
   "metadata": {},
   "source": [
    "**Tesseract Path if using Windows**"
   ]
  },
  {
   "cell_type": "code",
   "execution_count": 20,
   "metadata": {},
   "outputs": [],
   "source": [
    "# set the path in windows\n",
    "\n",
    "# pytesseract.pytesseract.tesseract_cmd = r'your_code_here' "
   ]
  },
  {
   "cell_type": "markdown",
   "metadata": {
    "id": "9o8JhFy8TcdY"
   },
   "source": [
    "## Extracting serial numbers from all images"
   ]
  },
  {
   "cell_type": "markdown",
   "metadata": {},
   "source": [
    "**Set path of folder import below** \n",
    "\n",
    "Uncomment and change folder name as per system requirements."
   ]
  },
  {
   "cell_type": "code",
   "execution_count": 21,
   "metadata": {},
   "outputs": [],
   "source": [
    "# Path pattern for image files (example for MacOS)\n",
    "# path_pattern = \"1.rawimages/*.jpg\"\n",
    "\n",
    "# Path pattern for image files (example for Windows)\n",
    "path_pattern = \"1. Rawimages/*.jpg\""
   ]
  },
  {
   "cell_type": "markdown",
   "metadata": {},
   "source": [
    "**Set RegEx pattern for serial number recognition below**"
   ]
  },
  {
   "cell_type": "code",
   "execution_count": 22,
   "metadata": {},
   "outputs": [],
   "source": [
    "# Define the regex pattern for serial numbers\n",
    "serial_pattern = r'\\b[A-C]{2}\\d{7}\\b'"
   ]
  },
  {
   "cell_type": "markdown",
   "metadata": {},
   "source": [
    "**Set SKU number below**"
   ]
  },
  {
   "cell_type": "code",
   "execution_count": 23,
   "metadata": {},
   "outputs": [],
   "source": [
    "sku_options = 'ZIMB91U'"
   ]
  },
  {
   "cell_type": "code",
   "execution_count": 24,
   "metadata": {},
   "outputs": [],
   "source": [
    "# Initialize lists to store processed images and extracted serial numbers\n",
    "data_records = []  # This will hold all records\n",
    "serial_records = []  # This will hold records with serial numbers\n",
    "na_records = []  # This will hold records with \"NA\"\n",
    "processed_serials = set()  # To prevent processing duplicates\n",
    "\n",
    "# Tesseract configuration\n",
    "custom_oem_psm_config = r'--oem 3 --psm 6'\n",
    "\n",
    "# Iterate over files that match the given pattern\n",
    "for img_path in glob.glob(path_pattern):\n",
    "    filename = os.path.basename(img_path)\n",
    "    file_number = int(filename.split('_')[-1].split('.')[0])\n",
    "\n",
    "    if file_number % 2 != 0:\n",
    "        img = cv2.imread(img_path)\n",
    "        height, width, _ = img.shape\n",
    "\n",
    "        # Define the cropping coordinates\n",
    "        cropped_img = img[int(0.15 * height):int(0.27 * height), int(0.74 * width):int(0.94 * width)]\n",
    "\n",
    "        # First attempt without enhancements\n",
    "        direct_text = pytesseract.image_to_string(cropped_img, config=custom_oem_psm_config)\n",
    "        direct_matches = re.findall(serial_pattern, direct_text)\n",
    "\n",
    "        if direct_matches:\n",
    "            for match in direct_matches:\n",
    "                if match not in processed_serials:\n",
    "                    record = [sku_options, match, \"\"]\n",
    "                    data_records.append(record)\n",
    "                    serial_records.append(record)\n",
    "                    processed_serials.add(match)\n",
    "            continue  # Move to the next image if successful\n",
    "\n",
    "        # Apply enhancements if no matches found\n",
    "        pil_img = Image.fromarray(cv2.cvtColor(cropped_img, cv2.COLOR_BGR2RGB))\n",
    "        pil_img = ImageEnhance.Brightness(pil_img).enhance(1.5)\n",
    "        pil_img = ImageEnhance.Contrast(pil_img).enhance(2.0)\n",
    "        pil_img = ImageEnhance.Sharpness(pil_img).enhance(2.0)\n",
    "        enhanced_img = cv2.cvtColor(np.array(pil_img), cv2.COLOR_RGB2BGR)\n",
    "        gray = cv2.cvtColor(enhanced_img, cv2.COLOR_BGR2GRAY)\n",
    "        _, thresh = cv2.threshold(gray, 0, 255, cv2.THRESH_BINARY + cv2.THRESH_OTSU)\n",
    "\n",
    "        extracted_text = pytesseract.image_to_string(thresh, config=custom_oem_psm_config)\n",
    "        matches = re.findall(serial_pattern, extracted_text)\n",
    "\n",
    "        if matches:\n",
    "            for match in matches:\n",
    "                if match not in processed_serials:\n",
    "                    record = [sku_options, match, \"\"]\n",
    "                    data_records.append(record)\n",
    "                    serial_records.append(record)\n",
    "                    processed_serials.add(match)\n",
    "        else:\n",
    "            # Rotate the image by 180 degrees and retry if no matches are found\n",
    "            img_rotated = cv2.rotate(img, cv2.ROTATE_180)\n",
    "            cropped_img_rotated = img_rotated[int(0.15 * height):int(0.27 * height), int(0.74 * width):int(0.94 * width)]\n",
    "            text_rotated = pytesseract.image_to_string(cropped_img_rotated, config=custom_oem_psm_config)\n",
    "            matches_rotated = re.findall(serial_pattern, text_rotated)\n",
    "            \n",
    "            if matches_rotated:\n",
    "                for match in matches_rotated:\n",
    "                    if match not in processed_serials:\n",
    "                        record = [sku_options, match, \"\"]\n",
    "                        data_records.append(record)\n",
    "                        serial_records.append(record)\n",
    "                        processed_serials.add(match)\n",
    "            else:\n",
    "                record = [sku_options, \"NA\", \"\", filename]\n",
    "                data_records.append(record)\n",
    "                na_records.append(record)\n"
   ]
  },
  {
   "cell_type": "markdown",
   "metadata": {},
   "source": [
    "**Writing the data to a csv file**"
   ]
  },
  {
   "cell_type": "code",
   "execution_count": 25,
   "metadata": {},
   "outputs": [
    {
     "name": "stdout",
     "output_type": "stream",
     "text": [
      "Data has been written to 2. Ready CSV File/output.csv, 2. Ready CSV File/serial_output.csv, and 2. Ready CSV File/na_output.csv\n"
     ]
    }
   ],
   "source": [
    "# Write the data to CSV files\n",
    "csv_file_path = '2. Ready CSV File/output.csv'\n",
    "serial_csv_file_path = '2. Ready CSV File/serial_output.csv'\n",
    "na_csv_file_path = '2. Ready CSV File/na_output.csv'\n",
    "\n",
    "# Write all records\n",
    "with open(csv_file_path, mode='w', newline='', encoding='utf-8') as file:\n",
    "    writer = csv.writer(file)\n",
    "    writer.writerow(['sku', 'serial', 'authnum', 'filename'])\n",
    "    writer.writerows(data_records)\n",
    "\n",
    "# Write records with serial numbers\n",
    "with open(serial_csv_file_path, mode='w', newline='', encoding='utf-8') as file:\n",
    "    writer = csv.writer(file)\n",
    "    writer.writerow(['sku', 'serial', 'authnum'])\n",
    "    writer.writerows(serial_records)\n",
    "\n",
    "# Write records with \"NA\"\n",
    "with open(na_csv_file_path, mode='w', newline='', encoding='utf-8') as file:\n",
    "    writer = csv.writer(file)\n",
    "    writer.writerow(['sku', 'serial', 'authnum', 'filename'])\n",
    "    writer.writerows(na_records)\n",
    "\n",
    "print(f'Data has been written to {csv_file_path}, {serial_csv_file_path}, and {na_csv_file_path}')\n"
   ]
  },
  {
   "cell_type": "markdown",
   "metadata": {},
   "source": [
    "## In order to display the records locally"
   ]
  },
  {
   "cell_type": "code",
   "execution_count": 26,
   "metadata": {},
   "outputs": [],
   "source": [
    "# Convert lists to DataFrame for easy handling and analysis\n",
    "df_dr = pd.DataFrame(data=data_records, columns=['SKU', 'Serial Number','AuthNum','Filename'])\n",
    "df_sr = pd.DataFrame(data=serial_records, columns=['SKU', 'Serial Number','AuthNum'])\n",
    "df_nr = pd.DataFrame(data=na_records, columns=['SKU', 'Serial Number','AuthNum','Filename'])\n"
   ]
  },
  {
   "cell_type": "markdown",
   "metadata": {},
   "source": [
    "**All Records**"
   ]
  },
  {
   "cell_type": "code",
   "execution_count": 27,
   "metadata": {},
   "outputs": [
    {
     "data": {
      "text/html": [
       "<div>\n",
       "<style scoped>\n",
       "    .dataframe tbody tr th:only-of-type {\n",
       "        vertical-align: middle;\n",
       "    }\n",
       "\n",
       "    .dataframe tbody tr th {\n",
       "        vertical-align: top;\n",
       "    }\n",
       "\n",
       "    .dataframe thead th {\n",
       "        text-align: right;\n",
       "    }\n",
       "</style>\n",
       "<table border=\"1\" class=\"dataframe\">\n",
       "  <thead>\n",
       "    <tr style=\"text-align: right;\">\n",
       "      <th></th>\n",
       "      <th>SKU</th>\n",
       "      <th>Serial Number</th>\n",
       "      <th>AuthNum</th>\n",
       "      <th>Filename</th>\n",
       "    </tr>\n",
       "  </thead>\n",
       "  <tbody>\n",
       "    <tr>\n",
       "      <th>0</th>\n",
       "      <td>ZIMB91U</td>\n",
       "      <td>AB5580659</td>\n",
       "      <td></td>\n",
       "      <td>None</td>\n",
       "    </tr>\n",
       "    <tr>\n",
       "      <th>1</th>\n",
       "      <td>ZIMB91U</td>\n",
       "      <td>AA5885429</td>\n",
       "      <td></td>\n",
       "      <td>None</td>\n",
       "    </tr>\n",
       "    <tr>\n",
       "      <th>2</th>\n",
       "      <td>ZIMB91U</td>\n",
       "      <td>AA2524371</td>\n",
       "      <td></td>\n",
       "      <td>None</td>\n",
       "    </tr>\n",
       "    <tr>\n",
       "      <th>3</th>\n",
       "      <td>ZIMB91U</td>\n",
       "      <td>AA0745362</td>\n",
       "      <td></td>\n",
       "      <td>None</td>\n",
       "    </tr>\n",
       "    <tr>\n",
       "      <th>4</th>\n",
       "      <td>ZIMB91U</td>\n",
       "      <td>AB4106623</td>\n",
       "      <td></td>\n",
       "      <td>None</td>\n",
       "    </tr>\n",
       "    <tr>\n",
       "      <th>...</th>\n",
       "      <td>...</td>\n",
       "      <td>...</td>\n",
       "      <td>...</td>\n",
       "      <td>...</td>\n",
       "    </tr>\n",
       "    <tr>\n",
       "      <th>95</th>\n",
       "      <td>ZIMB91U</td>\n",
       "      <td>AB1063554</td>\n",
       "      <td></td>\n",
       "      <td>None</td>\n",
       "    </tr>\n",
       "    <tr>\n",
       "      <th>96</th>\n",
       "      <td>ZIMB91U</td>\n",
       "      <td>AA7743820</td>\n",
       "      <td></td>\n",
       "      <td>None</td>\n",
       "    </tr>\n",
       "    <tr>\n",
       "      <th>97</th>\n",
       "      <td>ZIMB91U</td>\n",
       "      <td>AA2215807</td>\n",
       "      <td></td>\n",
       "      <td>None</td>\n",
       "    </tr>\n",
       "    <tr>\n",
       "      <th>98</th>\n",
       "      <td>ZIMB91U</td>\n",
       "      <td>AB2870055</td>\n",
       "      <td></td>\n",
       "      <td>None</td>\n",
       "    </tr>\n",
       "    <tr>\n",
       "      <th>99</th>\n",
       "      <td>ZIMB91U</td>\n",
       "      <td>AA9088469</td>\n",
       "      <td></td>\n",
       "      <td>None</td>\n",
       "    </tr>\n",
       "  </tbody>\n",
       "</table>\n",
       "<p>100 rows × 4 columns</p>\n",
       "</div>"
      ],
      "text/plain": [
       "        SKU Serial Number AuthNum Filename\n",
       "0   ZIMB91U     AB5580659             None\n",
       "1   ZIMB91U     AA5885429             None\n",
       "2   ZIMB91U     AA2524371             None\n",
       "3   ZIMB91U     AA0745362             None\n",
       "4   ZIMB91U     AB4106623             None\n",
       "..      ...           ...     ...      ...\n",
       "95  ZIMB91U     AB1063554             None\n",
       "96  ZIMB91U     AA7743820             None\n",
       "97  ZIMB91U     AA2215807             None\n",
       "98  ZIMB91U     AB2870055             None\n",
       "99  ZIMB91U     AA9088469             None\n",
       "\n",
       "[100 rows x 4 columns]"
      ]
     },
     "execution_count": 27,
     "metadata": {},
     "output_type": "execute_result"
    }
   ],
   "source": [
    "df_dr"
   ]
  },
  {
   "cell_type": "markdown",
   "metadata": {},
   "source": [
    "**NA Records**"
   ]
  },
  {
   "cell_type": "code",
   "execution_count": 28,
   "metadata": {},
   "outputs": [
    {
     "data": {
      "text/html": [
       "<div>\n",
       "<style scoped>\n",
       "    .dataframe tbody tr th:only-of-type {\n",
       "        vertical-align: middle;\n",
       "    }\n",
       "\n",
       "    .dataframe tbody tr th {\n",
       "        vertical-align: top;\n",
       "    }\n",
       "\n",
       "    .dataframe thead th {\n",
       "        text-align: right;\n",
       "    }\n",
       "</style>\n",
       "<table border=\"1\" class=\"dataframe\">\n",
       "  <thead>\n",
       "    <tr style=\"text-align: right;\">\n",
       "      <th></th>\n",
       "      <th>SKU</th>\n",
       "      <th>Serial Number</th>\n",
       "      <th>AuthNum</th>\n",
       "      <th>Filename</th>\n",
       "    </tr>\n",
       "  </thead>\n",
       "  <tbody>\n",
       "    <tr>\n",
       "      <th>0</th>\n",
       "      <td>ZIMB91U</td>\n",
       "      <td>NA</td>\n",
       "      <td></td>\n",
       "      <td>1_67.jpg</td>\n",
       "    </tr>\n",
       "    <tr>\n",
       "      <th>1</th>\n",
       "      <td>ZIMB91U</td>\n",
       "      <td>NA</td>\n",
       "      <td></td>\n",
       "      <td>1_159.jpg</td>\n",
       "    </tr>\n",
       "    <tr>\n",
       "      <th>2</th>\n",
       "      <td>ZIMB91U</td>\n",
       "      <td>NA</td>\n",
       "      <td></td>\n",
       "      <td>1_63.jpg</td>\n",
       "    </tr>\n",
       "    <tr>\n",
       "      <th>3</th>\n",
       "      <td>ZIMB91U</td>\n",
       "      <td>NA</td>\n",
       "      <td></td>\n",
       "      <td>1_61.jpg</td>\n",
       "    </tr>\n",
       "    <tr>\n",
       "      <th>4</th>\n",
       "      <td>ZIMB91U</td>\n",
       "      <td>NA</td>\n",
       "      <td></td>\n",
       "      <td>1_113.jpg</td>\n",
       "    </tr>\n",
       "    <tr>\n",
       "      <th>5</th>\n",
       "      <td>ZIMB91U</td>\n",
       "      <td>NA</td>\n",
       "      <td></td>\n",
       "      <td>1_107.jpg</td>\n",
       "    </tr>\n",
       "    <tr>\n",
       "      <th>6</th>\n",
       "      <td>ZIMB91U</td>\n",
       "      <td>NA</td>\n",
       "      <td></td>\n",
       "      <td>1_111.jpg</td>\n",
       "    </tr>\n",
       "    <tr>\n",
       "      <th>7</th>\n",
       "      <td>ZIMB91U</td>\n",
       "      <td>NA</td>\n",
       "      <td></td>\n",
       "      <td>1_25.jpg</td>\n",
       "    </tr>\n",
       "    <tr>\n",
       "      <th>8</th>\n",
       "      <td>ZIMB91U</td>\n",
       "      <td>NA</td>\n",
       "      <td></td>\n",
       "      <td>1_133.jpg</td>\n",
       "    </tr>\n",
       "    <tr>\n",
       "      <th>9</th>\n",
       "      <td>ZIMB91U</td>\n",
       "      <td>NA</td>\n",
       "      <td></td>\n",
       "      <td>1_21.jpg</td>\n",
       "    </tr>\n",
       "    <tr>\n",
       "      <th>10</th>\n",
       "      <td>ZIMB91U</td>\n",
       "      <td>NA</td>\n",
       "      <td></td>\n",
       "      <td>1_7.jpg</td>\n",
       "    </tr>\n",
       "    <tr>\n",
       "      <th>11</th>\n",
       "      <td>ZIMB91U</td>\n",
       "      <td>NA</td>\n",
       "      <td></td>\n",
       "      <td>1_119.jpg</td>\n",
       "    </tr>\n",
       "    <tr>\n",
       "      <th>12</th>\n",
       "      <td>ZIMB91U</td>\n",
       "      <td>NA</td>\n",
       "      <td></td>\n",
       "      <td>1_79.jpg</td>\n",
       "    </tr>\n",
       "    <tr>\n",
       "      <th>13</th>\n",
       "      <td>ZIMB91U</td>\n",
       "      <td>NA</td>\n",
       "      <td></td>\n",
       "      <td>1_93.jpg</td>\n",
       "    </tr>\n",
       "    <tr>\n",
       "      <th>14</th>\n",
       "      <td>ZIMB91U</td>\n",
       "      <td>NA</td>\n",
       "      <td></td>\n",
       "      <td>1_183.jpg</td>\n",
       "    </tr>\n",
       "    <tr>\n",
       "      <th>15</th>\n",
       "      <td>ZIMB91U</td>\n",
       "      <td>NA</td>\n",
       "      <td></td>\n",
       "      <td>1_151.jpg</td>\n",
       "    </tr>\n",
       "  </tbody>\n",
       "</table>\n",
       "</div>"
      ],
      "text/plain": [
       "        SKU Serial Number AuthNum   Filename\n",
       "0   ZIMB91U            NA           1_67.jpg\n",
       "1   ZIMB91U            NA          1_159.jpg\n",
       "2   ZIMB91U            NA           1_63.jpg\n",
       "3   ZIMB91U            NA           1_61.jpg\n",
       "4   ZIMB91U            NA          1_113.jpg\n",
       "5   ZIMB91U            NA          1_107.jpg\n",
       "6   ZIMB91U            NA          1_111.jpg\n",
       "7   ZIMB91U            NA           1_25.jpg\n",
       "8   ZIMB91U            NA          1_133.jpg\n",
       "9   ZIMB91U            NA           1_21.jpg\n",
       "10  ZIMB91U            NA            1_7.jpg\n",
       "11  ZIMB91U            NA          1_119.jpg\n",
       "12  ZIMB91U            NA           1_79.jpg\n",
       "13  ZIMB91U            NA           1_93.jpg\n",
       "14  ZIMB91U            NA          1_183.jpg\n",
       "15  ZIMB91U            NA          1_151.jpg"
      ]
     },
     "execution_count": 28,
     "metadata": {},
     "output_type": "execute_result"
    }
   ],
   "source": [
    "df_nr"
   ]
  },
  {
   "cell_type": "markdown",
   "metadata": {},
   "source": [
    "**Serial Records**"
   ]
  },
  {
   "cell_type": "code",
   "execution_count": 29,
   "metadata": {},
   "outputs": [
    {
     "data": {
      "text/html": [
       "<div>\n",
       "<style scoped>\n",
       "    .dataframe tbody tr th:only-of-type {\n",
       "        vertical-align: middle;\n",
       "    }\n",
       "\n",
       "    .dataframe tbody tr th {\n",
       "        vertical-align: top;\n",
       "    }\n",
       "\n",
       "    .dataframe thead th {\n",
       "        text-align: right;\n",
       "    }\n",
       "</style>\n",
       "<table border=\"1\" class=\"dataframe\">\n",
       "  <thead>\n",
       "    <tr style=\"text-align: right;\">\n",
       "      <th></th>\n",
       "      <th>SKU</th>\n",
       "      <th>Serial Number</th>\n",
       "      <th>AuthNum</th>\n",
       "    </tr>\n",
       "  </thead>\n",
       "  <tbody>\n",
       "    <tr>\n",
       "      <th>0</th>\n",
       "      <td>ZIMB91U</td>\n",
       "      <td>AB5580659</td>\n",
       "      <td></td>\n",
       "    </tr>\n",
       "    <tr>\n",
       "      <th>1</th>\n",
       "      <td>ZIMB91U</td>\n",
       "      <td>AA5885429</td>\n",
       "      <td></td>\n",
       "    </tr>\n",
       "    <tr>\n",
       "      <th>2</th>\n",
       "      <td>ZIMB91U</td>\n",
       "      <td>AA2524371</td>\n",
       "      <td></td>\n",
       "    </tr>\n",
       "    <tr>\n",
       "      <th>3</th>\n",
       "      <td>ZIMB91U</td>\n",
       "      <td>AA0745362</td>\n",
       "      <td></td>\n",
       "    </tr>\n",
       "    <tr>\n",
       "      <th>4</th>\n",
       "      <td>ZIMB91U</td>\n",
       "      <td>AB4106623</td>\n",
       "      <td></td>\n",
       "    </tr>\n",
       "    <tr>\n",
       "      <th>...</th>\n",
       "      <td>...</td>\n",
       "      <td>...</td>\n",
       "      <td>...</td>\n",
       "    </tr>\n",
       "    <tr>\n",
       "      <th>79</th>\n",
       "      <td>ZIMB91U</td>\n",
       "      <td>AB1063554</td>\n",
       "      <td></td>\n",
       "    </tr>\n",
       "    <tr>\n",
       "      <th>80</th>\n",
       "      <td>ZIMB91U</td>\n",
       "      <td>AA7743820</td>\n",
       "      <td></td>\n",
       "    </tr>\n",
       "    <tr>\n",
       "      <th>81</th>\n",
       "      <td>ZIMB91U</td>\n",
       "      <td>AA2215807</td>\n",
       "      <td></td>\n",
       "    </tr>\n",
       "    <tr>\n",
       "      <th>82</th>\n",
       "      <td>ZIMB91U</td>\n",
       "      <td>AB2870055</td>\n",
       "      <td></td>\n",
       "    </tr>\n",
       "    <tr>\n",
       "      <th>83</th>\n",
       "      <td>ZIMB91U</td>\n",
       "      <td>AA9088469</td>\n",
       "      <td></td>\n",
       "    </tr>\n",
       "  </tbody>\n",
       "</table>\n",
       "<p>84 rows × 3 columns</p>\n",
       "</div>"
      ],
      "text/plain": [
       "        SKU Serial Number AuthNum\n",
       "0   ZIMB91U     AB5580659        \n",
       "1   ZIMB91U     AA5885429        \n",
       "2   ZIMB91U     AA2524371        \n",
       "3   ZIMB91U     AA0745362        \n",
       "4   ZIMB91U     AB4106623        \n",
       "..      ...           ...     ...\n",
       "79  ZIMB91U     AB1063554        \n",
       "80  ZIMB91U     AA7743820        \n",
       "81  ZIMB91U     AA2215807        \n",
       "82  ZIMB91U     AB2870055        \n",
       "83  ZIMB91U     AA9088469        \n",
       "\n",
       "[84 rows x 3 columns]"
      ]
     },
     "execution_count": 29,
     "metadata": {},
     "output_type": "execute_result"
    }
   ],
   "source": [
    "df_sr"
   ]
  }
 ],
 "metadata": {
  "colab": {
   "provenance": []
  },
  "kernelspec": {
   "display_name": "Python 3 (ipykernel)",
   "language": "python",
   "name": "python3"
  },
  "language_info": {
   "codemirror_mode": {
    "name": "ipython",
    "version": 3
   },
   "file_extension": ".py",
   "mimetype": "text/x-python",
   "name": "python",
   "nbconvert_exporter": "python",
   "pygments_lexer": "ipython3",
   "version": "3.9.13"
  }
 },
 "nbformat": 4,
 "nbformat_minor": 1
}
